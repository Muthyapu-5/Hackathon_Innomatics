{
 "cells": [
  {
   "cell_type": "markdown",
   "metadata": {},
   "source": [
    "# Step - 1: \n",
    "    Download the csv file and read it in a Pandas Dataframe. Handle missing values and treat outliers. Don’t forget to visualise the data.\n"
   ]
  },
  {
   "cell_type": "code",
   "execution_count": 1,
   "metadata": {},
   "outputs": [],
   "source": [
    "# Import all the required Libraries\n",
    "\n",
    "import pandas as pd\n",
    "import numpy as np\n",
    "\n",
    "import seaborn as sns\n",
    "import matplotlib.pyplot as plt"
   ]
  },
  {
   "cell_type": "code",
   "execution_count": 2,
   "metadata": {},
   "outputs": [
    {
     "data": {
      "text/html": [
       "<div>\n",
       "<style scoped>\n",
       "    .dataframe tbody tr th:only-of-type {\n",
       "        vertical-align: middle;\n",
       "    }\n",
       "\n",
       "    .dataframe tbody tr th {\n",
       "        vertical-align: top;\n",
       "    }\n",
       "\n",
       "    .dataframe thead th {\n",
       "        text-align: right;\n",
       "    }\n",
       "</style>\n",
       "<table border=\"1\" class=\"dataframe\">\n",
       "  <thead>\n",
       "    <tr style=\"text-align: right;\">\n",
       "      <th></th>\n",
       "      <th>x1</th>\n",
       "      <th>x2</th>\n",
       "      <th>y</th>\n",
       "    </tr>\n",
       "  </thead>\n",
       "  <tbody>\n",
       "    <tr>\n",
       "      <th>0</th>\n",
       "      <td>-119.366669</td>\n",
       "      <td>115.000000</td>\n",
       "      <td>1</td>\n",
       "    </tr>\n",
       "    <tr>\n",
       "      <th>1</th>\n",
       "      <td>-101.108044</td>\n",
       "      <td>97.777159</td>\n",
       "      <td>1</td>\n",
       "    </tr>\n",
       "    <tr>\n",
       "      <th>2</th>\n",
       "      <td>-130.278658</td>\n",
       "      <td>106.767654</td>\n",
       "      <td>1</td>\n",
       "    </tr>\n",
       "    <tr>\n",
       "      <th>3</th>\n",
       "      <td>-114.703415</td>\n",
       "      <td>101.195477</td>\n",
       "      <td>1</td>\n",
       "    </tr>\n",
       "    <tr>\n",
       "      <th>4</th>\n",
       "      <td>-119.366669</td>\n",
       "      <td>115.000000</td>\n",
       "      <td>1</td>\n",
       "    </tr>\n",
       "  </tbody>\n",
       "</table>\n",
       "</div>"
      ],
      "text/plain": [
       "           x1          x2  y\n",
       "0 -119.366669  115.000000  1\n",
       "1 -101.108044   97.777159  1\n",
       "2 -130.278658  106.767654  1\n",
       "3 -114.703415  101.195477  1\n",
       "4 -119.366669  115.000000  1"
      ]
     },
     "execution_count": 2,
     "metadata": {},
     "output_type": "execute_result"
    }
   ],
   "source": [
    "data = pd.read_csv('data (1).csv')\n",
    "data.head(5)"
   ]
  },
  {
   "cell_type": "code",
   "execution_count": 3,
   "metadata": {},
   "outputs": [
    {
     "data": {
      "text/plain": [
       "(2227, 3)"
      ]
     },
     "execution_count": 3,
     "metadata": {},
     "output_type": "execute_result"
    }
   ],
   "source": [
    "data.shape"
   ]
  },
  {
   "cell_type": "code",
   "execution_count": 4,
   "metadata": {},
   "outputs": [
    {
     "name": "stdout",
     "output_type": "stream",
     "text": [
      "<class 'pandas.core.frame.DataFrame'>\n",
      "RangeIndex: 2227 entries, 0 to 2226\n",
      "Data columns (total 3 columns):\n",
      " #   Column  Non-Null Count  Dtype  \n",
      "---  ------  --------------  -----  \n",
      " 0   x1      2222 non-null   float64\n",
      " 1   x2      2224 non-null   float64\n",
      " 2   y       2227 non-null   int64  \n",
      "dtypes: float64(2), int64(1)\n",
      "memory usage: 52.3 KB\n"
     ]
    }
   ],
   "source": [
    "data.info()"
   ]
  },
  {
   "cell_type": "markdown",
   "metadata": {},
   "source": [
    "# Dealing with missing values"
   ]
  },
  {
   "cell_type": "code",
   "execution_count": 5,
   "metadata": {},
   "outputs": [
    {
     "data": {
      "text/plain": [
       "x1    5\n",
       "x2    3\n",
       "y     0\n",
       "dtype: int64"
      ]
     },
     "execution_count": 5,
     "metadata": {},
     "output_type": "execute_result"
    }
   ],
   "source": [
    "data.isnull().sum()"
   ]
  },
  {
   "cell_type": "code",
   "execution_count": 6,
   "metadata": {},
   "outputs": [
    {
     "data": {
      "text/plain": [
       "-118.366669    8\n",
       " 31.633331     6\n",
       " 30.633331     5\n",
       " 78.633331     5\n",
       "-86.366669     5\n",
       "              ..\n",
       " 58.434396     1\n",
       " 18.408090     1\n",
       "-99.593049     1\n",
       "-72.501026     1\n",
       " 54.003740     1\n",
       "Name: x1, Length: 1887, dtype: int64"
      ]
     },
     "execution_count": 6,
     "metadata": {},
     "output_type": "execute_result"
    }
   ],
   "source": [
    "data['x1'].value_counts()"
   ]
  },
  {
   "cell_type": "code",
   "execution_count": 7,
   "metadata": {},
   "outputs": [
    {
     "data": {
      "text/plain": [
       "-55.000000     7\n",
       "-113.000000    7\n",
       " 115.000000    6\n",
       "-119.000000    6\n",
       " 126.000000    6\n",
       "              ..\n",
       "-126.943566    1\n",
       "-130.800339    1\n",
       "-114.715946    1\n",
       "-80.804223     1\n",
       " 12.982108     1\n",
       "Name: x2, Length: 1884, dtype: int64"
      ]
     },
     "execution_count": 7,
     "metadata": {},
     "output_type": "execute_result"
    }
   ],
   "source": [
    "data['x2'].value_counts()"
   ]
  },
  {
   "cell_type": "code",
   "execution_count": 8,
   "metadata": {},
   "outputs": [],
   "source": [
    "#for colname in data:\n",
    " #   data[colname].fillna(data[colname].median()[0], inplace = True)\n",
    "    \n",
    "data['x1'].fillna(data['x1'].median(), inplace = True)\n",
    "data['x2'].fillna(data['x2'].median(), inplace = True)\n",
    "\n",
    "#just filling the missing value with mode in every column"
   ]
  },
  {
   "cell_type": "code",
   "execution_count": 9,
   "metadata": {},
   "outputs": [
    {
     "data": {
      "text/plain": [
       "x1    0\n",
       "x2    0\n",
       "y     0\n",
       "dtype: int64"
      ]
     },
     "execution_count": 9,
     "metadata": {},
     "output_type": "execute_result"
    }
   ],
   "source": [
    "data.isnull().sum()"
   ]
  },
  {
   "cell_type": "markdown",
   "metadata": {},
   "source": [
    "# dealing with outliers"
   ]
  },
  {
   "cell_type": "code",
   "execution_count": 10,
   "metadata": {},
   "outputs": [],
   "source": [
    "import warnings\n",
    "warnings.filterwarnings('ignore')\n",
    "\n",
    "# to ignore warnings"
   ]
  },
  {
   "cell_type": "code",
   "execution_count": 11,
   "metadata": {
    "scrolled": true
   },
   "outputs": [
    {
     "data": {
      "image/png": "[encoded data removed]",
      "text/plain": [
       "<Figure size 432x288 with 1 Axes>"
      ]
     },
     "metadata": {
      "needs_background": "light"
     },
     "output_type": "display_data"
    },
    {
     "data": {
      "image/png": "[encoded data removed]",
      "text/plain": [
       "<Figure size 432x288 with 1 Axes>"
      ]
     },
     "metadata": {
      "needs_background": "light"
     },
     "output_type": "display_data"
    },
    {
     "data": {
      "image/png": "[encoded data removed]",
      "text/plain": [
       "<Figure size 432x288 with 1 Axes>"
      ]
     },
     "metadata": {
      "needs_background": "light"
     },
     "output_type": "display_data"
    }
   ],
   "source": [
    "for i in data.columns:\n",
    "    sns.boxplot(data[i])\n",
    "    plt.show()"
   ]
  },
  {
   "cell_type": "code",
   "execution_count": 12,
   "metadata": {
    "scrolled": true
   },
   "outputs": [
    {
     "data": {
      "image/png": "[encoded data removed]",
      "text/plain": [
       "<Figure size 432x288 with 1 Axes>"
      ]
     },
     "metadata": {
      "needs_background": "light"
     },
     "output_type": "display_data"
    },
    {
     "data": {
      "image/png": "[encoded data removed]",
      "text/plain": [
       "<Figure size 432x288 with 1 Axes>"
      ]
     },
     "metadata": {
      "needs_background": "light"
     },
     "output_type": "display_data"
    },
    {
     "data": {
      "image/png": "[encoded data removed]",
      "text/plain": [
       "<Figure size 432x288 with 1 Axes>"
      ]
     },
     "metadata": {
      "needs_background": "light"
     },
     "output_type": "display_data"
    }
   ],
   "source": [
    "for i in data.columns:\n",
    "    sns.distplot(data[i])\n",
    "    plt.show()"
   ]
  },
  {
   "cell_type": "markdown",
   "metadata": {},
   "source": [
    "# treating outliers"
   ]
  },
  {
   "cell_type": "code",
   "execution_count": 13,
   "metadata": {},
   "outputs": [
    {
     "name": "stdout",
     "output_type": "stream",
     "text": [
      "IQR: 143.72673665000002\n",
      "Q1, Q2, Q3: -79.976865695 63.749870955000006\n",
      "lw, up: -295.56697067000005 279.33997593000004\n"
     ]
    },
    {
     "data": {
      "image/png": "[encoded data removed]",
      "text/plain": [
       "<Figure size 432x288 with 1 Axes>"
      ]
     },
     "metadata": {
      "needs_background": "light"
     },
     "output_type": "display_data"
    },
    {
     "data": {
      "text/plain": [
       "(2225, 3)"
      ]
     },
     "execution_count": 13,
     "metadata": {},
     "output_type": "execute_result"
    }
   ],
   "source": [
    "# 'x2' we have only one side outliers so we can use only [> upper range]\n",
    "\n",
    "# Outliers handling\n",
    "Q1 = data['x2'].quantile(0.25)\n",
    "Q2 = data['x2'].quantile(0.5)\n",
    "Q3 = data['x2'].quantile(0.75)\n",
    "\n",
    "IQR = Q3-Q1\n",
    "\n",
    "print('IQR:' , IQR)\n",
    "\n",
    "print('Q1, Q2, Q3:',Q1, Q3)\n",
    "\n",
    "# Max and Lower range\n",
    "\n",
    "lw = Q1-1.5*IQR\n",
    "up = Q3+1.5*IQR\n",
    "\n",
    "print('lw, up:' , lw, up)\n",
    "\n",
    "data.drop(data[data.x2 > up].index , inplace=True)\n",
    "\n",
    "# After remove  Outliers\n",
    "sns.boxplot(data.x2)\n",
    "plt.title('After Outliers remove')\n",
    "\n",
    "plt.show()\n",
    "\n",
    "data.shape"
   ]
  },
  {
   "cell_type": "code",
   "execution_count": 14,
   "metadata": {},
   "outputs": [
    {
     "data": {
      "image/png": "[encoded data removed]",
      "text/plain": [
       "<Figure size 1080x144 with 2 Axes>"
      ]
     },
     "metadata": {
      "needs_background": "light"
     },
     "output_type": "display_data"
    },
    {
     "data": {
      "text/plain": [
       "(2225, 3)"
      ]
     },
     "execution_count": 14,
     "metadata": {},
     "output_type": "execute_result"
    }
   ],
   "source": [
    "# x1 = 0 no outliers\n",
    "\n",
    "# Multiverient Analysis :\n",
    "\n",
    "plt.figure(figsize=(15,2))\n",
    "\n",
    "plt.subplot(131)\n",
    "sns.distplot(data.x1)\n",
    "plt.title('Normal Distribution')\n",
    "\n",
    "plt.subplot(132)\n",
    "sns.boxplot(data.x1)\n",
    "plt.title('Outliers detections')\n",
    "\n",
    "\n",
    "plt.show()\n",
    "data.shape"
   ]
  },
  {
   "cell_type": "code",
   "execution_count": 15,
   "metadata": {},
   "outputs": [
    {
     "data": {
      "image/png": "[encoded data removed]",
      "text/plain": [
       "<Figure size 1080x144 with 2 Axes>"
      ]
     },
     "metadata": {
      "needs_background": "light"
     },
     "output_type": "display_data"
    },
    {
     "data": {
      "text/plain": [
       "(2225, 3)"
      ]
     },
     "execution_count": 15,
     "metadata": {},
     "output_type": "execute_result"
    }
   ],
   "source": [
    "# y = 0 no outliers\n",
    "\n",
    "# Multiverient Analysis :\n",
    "\n",
    "plt.figure(figsize=(15,2))\n",
    "\n",
    "plt.subplot(131)\n",
    "sns.distplot(data.y)\n",
    "plt.title('Normal Distribution')\n",
    "\n",
    "plt.subplot(132)\n",
    "sns.boxplot(data.y)\n",
    "plt.title('Outliers detections')\n",
    "\n",
    "plt.show()\n",
    "data.shape"
   ]
  },
  {
   "cell_type": "code",
   "execution_count": null,
   "metadata": {},
   "outputs": [],
   "source": []
  },
  {
   "cell_type": "code",
   "execution_count": 16,
   "metadata": {},
   "outputs": [
    {
     "data": {
      "image/png": "[encoded data removed]",
      "text/plain": [
       "<Figure size 720x432 with 2 Axes>"
      ]
     },
     "metadata": {
      "needs_background": "light"
     },
     "output_type": "display_data"
    }
   ],
   "source": [
    "# correlation Metrics\n",
    "plt.figure(figsize=(10,6))\n",
    "sns.heatmap(data.corr(),annot=True)\n",
    "plt.show()"
   ]
  },
  {
   "cell_type": "markdown",
   "metadata": {},
   "source": [
    "## checking y column - balancing / imbalancing"
   ]
  },
  {
   "cell_type": "code",
   "execution_count": 17,
   "metadata": {},
   "outputs": [
    {
     "data": {
      "text/plain": [
       "0    1240\n",
       "1     985\n",
       "Name: y, dtype: int64"
      ]
     },
     "execution_count": 17,
     "metadata": {},
     "output_type": "execute_result"
    }
   ],
   "source": [
    "data['y'].value_counts()"
   ]
  },
  {
   "cell_type": "code",
   "execution_count": 18,
   "metadata": {},
   "outputs": [
    {
     "name": "stdout",
     "output_type": "stream",
     "text": [
      "0    1240\n",
      "1     985\n",
      "Name: y, dtype: int64\n"
     ]
    },
    {
     "data": {
      "image/png": "[encoded data removed]",
      "text/plain": [
       "<Figure size 432x288 with 1 Axes>"
      ]
     },
     "metadata": {
      "needs_background": "light"
     },
     "output_type": "display_data"
    }
   ],
   "source": [
    "sns.countplot(x = 'y' , data = data)\n",
    "\n",
    "print(data['y'].value_counts())"
   ]
  },
  {
   "cell_type": "code",
   "execution_count": 19,
   "metadata": {},
   "outputs": [
    {
     "name": "stdout",
     "output_type": "stream",
     "text": [
      "55.73033707865168\n",
      "\n",
      "44.26966292134831\n"
     ]
    }
   ],
   "source": [
    "print(100*(1240/float(data.shape[0])))\n",
    "\n",
    "print('')\n",
    "\n",
    "print(100*(985/float(data.shape[0])))"
   ]
  },
  {
   "cell_type": "code",
   "execution_count": null,
   "metadata": {},
   "outputs": [],
   "source": []
  },
  {
   "cell_type": "markdown",
   "metadata": {},
   "source": [
    "#  Step - 2: Train different Machine Learning models:\n",
    "        Logistic Regression\n",
    "        SVM with Linear Kernel\n",
    "        SVM with RBF Kernel\n",
    "        Decision Tree\n",
    "        KNN\n"
   ]
  },
  {
   "cell_type": "markdown",
   "metadata": {},
   "source": [
    "# splitting the dataset"
   ]
  },
  {
   "cell_type": "code",
   "execution_count": 20,
   "metadata": {},
   "outputs": [
    {
     "name": "stdout",
     "output_type": "stream",
     "text": [
      "X_train: (1780, 2)\n",
      "X_test: (445, 2)\n",
      "y_train: (1780,)\n",
      "y_test: (445,)\n"
     ]
    }
   ],
   "source": [
    "# independent & dependent feature\n",
    "\n",
    "X = data.iloc[:,:-1]         # Features - All columns but last\n",
    "y = data.iloc[:,-1]  \n",
    "\n",
    "# Splitting data into Training and Test splits¶\n",
    "\n",
    "from sklearn.model_selection import train_test_split\n",
    "\n",
    "X_train, X_test, y_train, y_test =  train_test_split(X,y,test_size=0.20, random_state = 11)\n",
    "\n",
    "#80% and 20%\n",
    "\n",
    "print('X_train:',X_train.shape)\n",
    "print('X_test:',X_test.shape)\n",
    "print('y_train:',y_train.shape)\n",
    "print('y_test:',y_test.shape)"
   ]
  },
  {
   "cell_type": "code",
   "execution_count": 21,
   "metadata": {},
   "outputs": [],
   "source": [
    "from sklearn.metrics import accuracy_score, precision_score, recall_score, f1_score, classification_report,confusion_matrix, accuracy_score\n",
    "from sklearn.model_selection import train_test_split\n"
   ]
  },
  {
   "cell_type": "markdown",
   "metadata": {},
   "source": [
    "# model 1 - logistic"
   ]
  },
  {
   "cell_type": "code",
   "execution_count": 22,
   "metadata": {},
   "outputs": [
    {
     "name": "stdout",
     "output_type": "stream",
     "text": [
      "Model: LogisticRegression()\n",
      "\n",
      "for test:\n",
      "              precision    recall  f1-score   support\n",
      "\n",
      "           0       0.67      1.00      0.80       310\n",
      "           1       0.99      0.39      0.56       247\n",
      "\n",
      "    accuracy                           0.73       557\n",
      "   macro avg       0.83      0.69      0.68       557\n",
      "weighted avg       0.81      0.73      0.69       557\n",
      "\n",
      "\n",
      "for train :\n",
      "\n",
      "              precision    recall  f1-score   support\n",
      "\n",
      "           0       0.70      1.00      0.82       930\n",
      "           1       1.00      0.45      0.62       738\n",
      "\n",
      "    accuracy                           0.76      1668\n",
      "   macro avg       0.85      0.72      0.72      1668\n",
      "weighted avg       0.83      0.76      0.73      1668\n",
      "\n"
     ]
    }
   ],
   "source": [
    "from sklearn.linear_model import LogisticRegression\n",
    "log_reg = LogisticRegression()\n",
    "\n",
    "# Features selection \n",
    "X = data.iloc[:,:-1]\n",
    "y = data.iloc[:,-1]\n",
    "\n",
    "# Split and Fit model\n",
    "X_train,X_test,y_train,y_test = train_test_split(X,y,test_size=0.25,random_state=44)\n",
    "\n",
    "log_reg.fit(X_train, y_train)\n",
    "y_pred_log_test = log_reg.predict(X_test)\n",
    "\n",
    "print('Model:', log_reg)\n",
    "print('')\n",
    "\n",
    "print('for test:')\n",
    "print(classification_report (y_test, y_pred_log_test))\n",
    "\n",
    "\n",
    "print('')\n",
    "print('for train :')\n",
    "y_pred_log_train = log_reg.predict(X_train)\n",
    "\n",
    "print('')\n",
    "\n",
    "print(classification_report (y_train, y_pred_log_train))\n",
    "\n",
    "#f1_score(y_test, y_pred_log_test)"
   ]
  },
  {
   "cell_type": "markdown",
   "metadata": {},
   "source": [
    "# model 2 - SVM with Linear Kernel"
   ]
  },
  {
   "cell_type": "code",
   "execution_count": 23,
   "metadata": {},
   "outputs": [
    {
     "name": "stdout",
     "output_type": "stream",
     "text": [
      "              precision    recall  f1-score   support\n",
      "\n",
      "           0       0.66      1.00      0.80       310\n",
      "           1       1.00      0.36      0.53       247\n",
      "\n",
      "    accuracy                           0.71       557\n",
      "   macro avg       0.83      0.68      0.66       557\n",
      "weighted avg       0.81      0.71      0.68       557\n",
      "\n"
     ]
    }
   ],
   "source": [
    "from sklearn import svm\n",
    "\n",
    "# Features selection \n",
    "X = data.iloc[:,:-1]\n",
    "y = data.iloc[:,-1]\n",
    "\n",
    "# Split and Fit model\n",
    "X_train,X_test,y_train,y_test = train_test_split(X,y,test_size=0.25,random_state=44)\n",
    "\n",
    "\n",
    "linear_svc = svm.SVC(kernel='linear').fit(X_train, y_train)\n",
    "\n",
    "kernels = ['SVC with Linear Kernel']\n",
    "\n",
    "y_pred= linear_svc.predict(X_test) \n",
    "\n",
    "\n",
    "print (classification_report (y_test, y_pred))"
   ]
  },
  {
   "cell_type": "markdown",
   "metadata": {},
   "source": [
    "# model 3 - SVM with RBF Kernel"
   ]
  },
  {
   "cell_type": "code",
   "execution_count": 24,
   "metadata": {},
   "outputs": [
    {
     "name": "stdout",
     "output_type": "stream",
     "text": [
      "              precision    recall  f1-score   support\n",
      "\n",
      "           0       0.99      0.62      0.76       496\n",
      "           1       0.23      0.93      0.37        61\n",
      "\n",
      "    accuracy                           0.65       557\n",
      "   macro avg       0.61      0.78      0.56       557\n",
      "weighted avg       0.90      0.65      0.72       557\n",
      "\n"
     ]
    }
   ],
   "source": [
    "from sklearn import svm\n",
    "\n",
    "# Features selection \n",
    "X = data.iloc[:,:-1]\n",
    "y = data.iloc[:,-1]\n",
    "\n",
    "# Split and Fit model\n",
    "X_train,X_test,y_train,y_test = train_test_split(X,y,test_size=0.25,random_state=44)\n",
    "\n",
    "rbf_svc = svm.SVC(kernel='rbf', gamma=0.7, C=1).fit(X_train, y_train)\n",
    "\n",
    "kernels = ['SVC with RBF Kernel']\n",
    "\n",
    "y_pred= rbf_svc.predict(X_test) \n",
    "\n",
    "#accuracy_score(y_pred,y_test)\n",
    "print(classification_report(y_pred,y_test))"
   ]
  },
  {
   "cell_type": "markdown",
   "metadata": {},
   "source": [
    "# MODEL 4 - Decision Tree"
   ]
  },
  {
   "cell_type": "code",
   "execution_count": 25,
   "metadata": {},
   "outputs": [
    {
     "name": "stdout",
     "output_type": "stream",
     "text": [
      "DecisionTreeClassifier()\n",
      "\n",
      "for test:\n",
      "DecisionTreeClassifier Model Accuracy :  0.9353680430879713\n"
     ]
    },
    {
     "data": {
      "text/plain": [
       "array([[290,  16],\n",
       "       [ 20, 231]])"
      ]
     },
     "execution_count": 25,
     "metadata": {},
     "output_type": "execute_result"
    }
   ],
   "source": [
    "# decision tree\n",
    "\n",
    "from sklearn.tree import DecisionTreeClassifier\n",
    "decision_tree = DecisionTreeClassifier()\n",
    "\n",
    "\n",
    "decision_tree.fit(X_train,y_train)\n",
    "\n",
    "y_pred_for_DT = decision_tree.predict(X_test)\n",
    "\n",
    "from sklearn.metrics import accuracy_score\n",
    "\n",
    "print(decision_tree)\n",
    "\n",
    "print('')\n",
    "\n",
    "print('for test:', )\n",
    "\n",
    "print('DecisionTreeClassifier Model Accuracy : ', accuracy_score(y_pred_for_DT,y_test))\n",
    "\n",
    "confusion_matrix(y_pred_for_DT,y_test)\n",
    "\n"
   ]
  },
  {
   "cell_type": "code",
   "execution_count": 26,
   "metadata": {},
   "outputs": [
    {
     "name": "stdout",
     "output_type": "stream",
     "text": [
      "recall_score_for_DT :  0.9352226720647774\n",
      "\n",
      "precision_score_for_DT :  0.9203187250996016\n",
      "\n",
      "              precision    recall  f1-score   support\n",
      "\n",
      "           0       0.94      0.95      0.94       306\n",
      "           1       0.94      0.92      0.93       251\n",
      "\n",
      "    accuracy                           0.94       557\n",
      "   macro avg       0.94      0.93      0.93       557\n",
      "weighted avg       0.94      0.94      0.94       557\n",
      "\n"
     ]
    }
   ],
   "source": [
    "from sklearn.metrics import recall_score\n",
    "print('recall_score_for_DT : ',recall_score(y_test, y_pred_for_DT))\n",
    "\n",
    "print('')\n",
    "\n",
    "from sklearn.metrics import precision_score\n",
    "print('precision_score_for_DT : ',precision_score(y_test, y_pred_for_DT))\n",
    "\n",
    "print('')\n",
    "\n",
    "print(classification_report(y_pred_for_DT,y_test))\n"
   ]
  },
  {
   "cell_type": "markdown",
   "metadata": {},
   "source": [
    "# MODEL 5 - KNN"
   ]
  },
  {
   "cell_type": "code",
   "execution_count": 27,
   "metadata": {},
   "outputs": [
    {
     "name": "stdout",
     "output_type": "stream",
     "text": [
      "Model: KNeighborsClassifier()\n",
      "\n",
      "for test:\n",
      "KNeighborsClassifier Model Accuracy :  0.9587073608617595\n",
      "\n"
     ]
    },
    {
     "data": {
      "text/plain": [
       "array([[300,  13],\n",
       "       [ 10, 234]])"
      ]
     },
     "execution_count": 27,
     "metadata": {},
     "output_type": "execute_result"
    }
   ],
   "source": [
    "#KNN also a used for Regression Technique. i hope it will help to find Prediction with best accuracy\n",
    "\n",
    "#Import Libaries\n",
    "\n",
    "from sklearn.neighbors import KNeighborsClassifier\n",
    "from sklearn import metrics\n",
    "knn = KNeighborsClassifier()\n",
    "\n",
    "# Features selection \n",
    "X = data.iloc[:,:-1]\n",
    "y = data.iloc[:,-1]\n",
    "\n",
    "# Split and Fit model\n",
    "X_train,X_test,y_train,y_test = train_test_split(X,y,test_size=0.25,random_state=44)\n",
    "\n",
    "knn.fit(X_train,y_train)\n",
    "\n",
    "y_pred_for_knn = knn.predict(X_test)\n",
    "\n",
    "\n",
    "print('Model:', knn)\n",
    "\n",
    "print('')\n",
    "print('for test:')\n",
    "      \n",
    "print('KNeighborsClassifier Model Accuracy : ', accuracy_score(y_pred_for_knn,y_test))\n",
    "\n",
    "print('')\n",
    "\n",
    "confusion_matrix(y_pred_for_knn,y_test)"
   ]
  },
  {
   "cell_type": "code",
   "execution_count": 28,
   "metadata": {},
   "outputs": [
    {
     "name": "stdout",
     "output_type": "stream",
     "text": [
      "              precision    recall  f1-score   support\n",
      "\n",
      "           0       0.97      0.96      0.96       313\n",
      "           1       0.95      0.96      0.95       244\n",
      "\n",
      "    accuracy                           0.96       557\n",
      "   macro avg       0.96      0.96      0.96       557\n",
      "weighted avg       0.96      0.96      0.96       557\n",
      "\n",
      "\n",
      "recall_score_for_knn :  0.9473684210526315\n",
      "\n",
      "precision_score_for_knn :  0.9590163934426229\n",
      "\n"
     ]
    }
   ],
   "source": [
    "from sklearn.metrics import recall_score\n",
    "\n",
    "print(classification_report(y_pred_for_knn,y_test))\n",
    "\n",
    "print('')\n",
    "print('recall_score_for_knn : ',recall_score(y_test, y_pred_for_knn))\n",
    "\n",
    "print('')\n",
    "\n",
    "from sklearn.metrics import precision_score\n",
    "print('precision_score_for_knn : ',precision_score(y_test, y_pred_for_knn))\n",
    "\n",
    "print('')\n",
    "\n"
   ]
  },
  {
   "cell_type": "markdown",
   "metadata": {},
   "source": [
    "# observations - \n",
    "\n",
    "    model accuracy -\n",
    "        Logistic Regression - 0.73\n",
    "        SVM with Linear Kernel - 0.71\n",
    "        SVM with RBF Kernel - 0.65\n",
    "        Decision Tree - 0.93\n",
    "        KNN - 0.95"
   ]
  },
  {
   "cell_type": "code",
   "execution_count": null,
   "metadata": {},
   "outputs": [],
   "source": []
  },
  {
   "cell_type": "markdown",
   "metadata": {},
   "source": [
    "# Step - 3: Perform proper hyperparameter tuning for each model from Step - 2 😢\n"
   ]
  },
  {
   "cell_type": "code",
   "execution_count": 29,
   "metadata": {},
   "outputs": [
    {
     "name": "stdout",
     "output_type": "stream",
     "text": [
      "Model: LogisticRegression()\n",
      "\n",
      "for test:\n",
      "              precision    recall  f1-score   support\n",
      "\n",
      "           0       0.67      1.00      0.80       310\n",
      "           1       0.99      0.39      0.56       247\n",
      "\n",
      "    accuracy                           0.73       557\n",
      "   macro avg       0.83      0.69      0.68       557\n",
      "weighted avg       0.81      0.73      0.69       557\n",
      "\n"
     ]
    }
   ],
   "source": [
    "from sklearn.linear_model import LogisticRegression\n",
    "log_reg = LogisticRegression()\n",
    "\n",
    "# Features selection \n",
    "X = data.iloc[:,:-1]\n",
    "y = data.iloc[:,-1]\n",
    "\n",
    "# Split and Fit model\n",
    "X_train,X_test,y_train,y_test = train_test_split(X,y,test_size=0.25,random_state=44)\n",
    "\n",
    "log_reg.fit(X_train, y_train)\n",
    "y_pred_log_test = log_reg.predict(X_test)\n",
    "\n",
    "print('Model:', log_reg)\n",
    "print('')\n",
    "\n",
    "print('for test:')\n",
    "print(classification_report (y_test, y_pred_log_test))"
   ]
  },
  {
   "cell_type": "markdown",
   "metadata": {},
   "source": [
    "# Hyper-Parameter tuning for Logistic\n",
    "\n",
    "    Logistic regression does not really have any critical hyperparameters to tune. Sometimes, you can see useful differences in performance or convergence with different solvers (solver). Regularization (penalty) can sometimes be helpful.\n",
    "    \n",
    "    solver in [‘newton-cg’, ‘lbfgs’, ‘liblinear’, ‘sag’, ‘saga’]\n",
    "    penalty in [‘none’, ‘l1’, ‘l2’, ‘elasticnet’]\n",
    "    C in [100, 10, 1.0, 0.1, 0.01]"
   ]
  },
  {
   "cell_type": "code",
   "execution_count": 30,
   "metadata": {},
   "outputs": [
    {
     "data": {
      "text/plain": [
       "GridSearchCV(cv=RepeatedStratifiedKFold(n_repeats=3, n_splits=10, random_state=1),\n",
       "             error_score=0, estimator=LogisticRegression(), n_jobs=-1,\n",
       "             param_grid={'C': [100, 10, 1.0, 0.1, 0.01], 'penalty': ['l2'],\n",
       "                         'solver': ['liblinear']},\n",
       "             scoring='accuracy')"
      ]
     },
     "execution_count": 30,
     "metadata": {},
     "output_type": "execute_result"
    }
   ],
   "source": [
    "from sklearn.model_selection import GridSearchCV\n",
    "from sklearn.model_selection import RepeatedStratifiedKFold\n",
    "\n",
    "# define models and parameters\n",
    "\n",
    "solvers = ['liblinear']\n",
    "penalty = ['l2']\n",
    "c_values = [100, 10, 1.0, 0.1, 0.01]\n",
    "\n",
    "# define grid search\n",
    "grid_search_for_log = dict(solver=solvers,penalty=penalty,C=c_values)\n",
    "\n",
    "cv = RepeatedStratifiedKFold(n_splits=10, n_repeats=3, random_state=1)\n",
    "\n",
    "grid_search = GridSearchCV(estimator=LogisticRegression(), param_grid=grid_search_for_log, n_jobs=-1, cv=cv, scoring='accuracy',error_score=0)\n",
    "\n",
    "grid_search.fit(X_train,y_train)\n",
    "\n"
   ]
  },
  {
   "cell_type": "code",
   "execution_count": 31,
   "metadata": {},
   "outputs": [
    {
     "data": {
      "text/plain": [
       "0.758389245605175"
      ]
     },
     "execution_count": 31,
     "metadata": {},
     "output_type": "execute_result"
    }
   ],
   "source": [
    "grid_search.best_score_"
   ]
  },
  {
   "cell_type": "code",
   "execution_count": 32,
   "metadata": {},
   "outputs": [
    {
     "data": {
      "text/plain": [
       "{'C': 0.01, 'penalty': 'l2', 'solver': 'liblinear'}"
      ]
     },
     "execution_count": 32,
     "metadata": {},
     "output_type": "execute_result"
    }
   ],
   "source": [
    "grid_search.best_params_"
   ]
  },
  {
   "cell_type": "markdown",
   "metadata": {},
   "source": [
    "# model building"
   ]
  },
  {
   "cell_type": "code",
   "execution_count": 33,
   "metadata": {},
   "outputs": [],
   "source": [
    "log_reg2 = grid_search.best_estimator_\n",
    "\n",
    "log_reg2.fit(X_train,y_train)\n",
    "\n",
    "y_pred_for_log_reg2 = log_reg2.predict(X_test)\n",
    "\n"
   ]
  },
  {
   "cell_type": "code",
   "execution_count": 34,
   "metadata": {},
   "outputs": [
    {
     "name": "stdout",
     "output_type": "stream",
     "text": [
      "Test set accuracy :  0.7360861759425493\n",
      "\n",
      "[[307   3]\n",
      " [144 103]]\n",
      "\n",
      "recall_score_for_log_reg2 :  0.41700404858299595\n",
      "\n",
      "precision_score_for_log_reg2 :  0.9716981132075472\n"
     ]
    }
   ],
   "source": [
    "#print('Training set accuracy: ', metrics.accuracy_score(y_train_smote, y_hat_knn2))\n",
    "print('Test set accuracy : ', accuracy_score(y_pred_for_log_reg2, y_test))\n",
    "\n",
    "print('')\n",
    "\n",
    "from sklearn.metrics import confusion_matrix\n",
    "print(confusion_matrix(y_test, y_pred_for_log_reg2))\n",
    "\n",
    "print('')\n",
    "from sklearn.metrics import recall_score\n",
    "print('recall_score_for_log_reg2 : ',recall_score(y_test, y_pred_for_log_reg2))\n",
    "\n",
    "print('')\n",
    "\n",
    "from sklearn.metrics import precision_score\n",
    "print('precision_score_for_log_reg2 : ',precision_score(y_test, y_pred_for_log_reg2))\n",
    "\n"
   ]
  },
  {
   "cell_type": "markdown",
   "metadata": {},
   "source": [
    "# observations"
   ]
  },
  {
   "cell_type": "markdown",
   "metadata": {},
   "source": [
    "-->\n",
    "\n",
    "    Before applying hyper-parameter\n",
    "        \n",
    "            acc = 0.73\n",
    "            precision = 0.99 \n",
    "            recall = 0.38\n",
    "->\n",
    "    \n",
    "    AFTER applying hyper parametrs to the base model the output is \n",
    "        \n",
    "        acc = 0.73\n",
    "        precision = 0.97\n",
    "        recall = 0.41"
   ]
  },
  {
   "cell_type": "markdown",
   "metadata": {},
   "source": [
    "# svm - model 2"
   ]
  },
  {
   "cell_type": "code",
   "execution_count": 35,
   "metadata": {},
   "outputs": [
    {
     "name": "stdout",
     "output_type": "stream",
     "text": [
      "              precision    recall  f1-score   support\n",
      "\n",
      "           0       0.66      1.00      0.80       310\n",
      "           1       1.00      0.36      0.53       247\n",
      "\n",
      "    accuracy                           0.71       557\n",
      "   macro avg       0.83      0.68      0.66       557\n",
      "weighted avg       0.81      0.71      0.68       557\n",
      "\n"
     ]
    }
   ],
   "source": [
    "from sklearn import svm\n",
    "\n",
    "# Features selection \n",
    "X = data.iloc[:,:-1]\n",
    "y = data.iloc[:,-1]\n",
    "\n",
    "# Split and Fit model\n",
    "X_train,X_test,y_train,y_test = train_test_split(X,y,test_size=0.25,random_state=44)\n",
    "\n",
    "\n",
    "linear_svc = svm.SVC(kernel='linear').fit(X_train, y_train)\n",
    "\n",
    "kernels = ['SVC with Linear Kernel']\n",
    "\n",
    "y_pred= linear_svc.predict(X_test) \n",
    "\n",
    "print (classification_report (y_test, y_pred))"
   ]
  },
  {
   "cell_type": "markdown",
   "metadata": {},
   "source": [
    "# hyper - parameter tuning for svm linear"
   ]
  },
  {
   "cell_type": "code",
   "execution_count": 36,
   "metadata": {
    "scrolled": true
   },
   "outputs": [
    {
     "name": "stdout",
     "output_type": "stream",
     "text": [
      "Fitting 5 folds for each of 9 candidates, totalling 45 fits\n",
      "[CV 1/5] END .....C=0.1, gamma=1, kernel=linear;, score=0.731 total time=   3.6s\n",
      "[CV 2/5] END .....C=0.1, gamma=1, kernel=linear;, score=0.769 total time=   3.2s\n",
      "[CV 3/5] END .....C=0.1, gamma=1, kernel=linear;, score=0.737 total time=   3.0s\n",
      "[CV 4/5] END .....C=0.1, gamma=1, kernel=linear;, score=0.724 total time=   2.7s\n",
      "[CV 5/5] END .....C=0.1, gamma=1, kernel=linear;, score=0.742 total time=   3.1s\n",
      "[CV 1/5] END ...C=0.1, gamma=0.1, kernel=linear;, score=0.731 total time=   3.6s\n",
      "[CV 2/5] END ...C=0.1, gamma=0.1, kernel=linear;, score=0.769 total time=   3.2s\n",
      "[CV 3/5] END ...C=0.1, gamma=0.1, kernel=linear;, score=0.737 total time=   3.0s\n",
      "[CV 4/5] END ...C=0.1, gamma=0.1, kernel=linear;, score=0.724 total time=   2.7s\n",
      "[CV 5/5] END ...C=0.1, gamma=0.1, kernel=linear;, score=0.742 total time=   3.1s\n",
      "[CV 1/5] END ..C=0.1, gamma=0.01, kernel=linear;, score=0.731 total time=   3.6s\n",
      "[CV 2/5] END ..C=0.1, gamma=0.01, kernel=linear;, score=0.769 total time=   3.2s\n",
      "[CV 3/5] END ..C=0.1, gamma=0.01, kernel=linear;, score=0.737 total time=   3.3s\n",
      "[CV 4/5] END ..C=0.1, gamma=0.01, kernel=linear;, score=0.724 total time=   2.7s\n",
      "[CV 5/5] END ..C=0.1, gamma=0.01, kernel=linear;, score=0.742 total time=   3.1s\n",
      "[CV 1/5] END .......C=1, gamma=1, kernel=linear;, score=0.731 total time=  26.2s\n",
      "[CV 2/5] END .......C=1, gamma=1, kernel=linear;, score=0.769 total time=  22.3s\n",
      "[CV 3/5] END .......C=1, gamma=1, kernel=linear;, score=0.737 total time=  21.5s\n",
      "[CV 4/5] END .......C=1, gamma=1, kernel=linear;, score=0.724 total time=  22.6s\n",
      "[CV 5/5] END .......C=1, gamma=1, kernel=linear;, score=0.742 total time=  23.4s\n",
      "[CV 1/5] END .....C=1, gamma=0.1, kernel=linear;, score=0.731 total time=  23.5s\n",
      "[CV 2/5] END .....C=1, gamma=0.1, kernel=linear;, score=0.769 total time=  22.4s\n",
      "[CV 3/5] END .....C=1, gamma=0.1, kernel=linear;, score=0.737 total time=  21.5s\n",
      "[CV 4/5] END .....C=1, gamma=0.1, kernel=linear;, score=0.724 total time=  23.5s\n",
      "[CV 5/5] END .....C=1, gamma=0.1, kernel=linear;, score=0.742 total time=  23.3s\n",
      "[CV 1/5] END ....C=1, gamma=0.01, kernel=linear;, score=0.731 total time=  23.4s\n",
      "[CV 2/5] END ....C=1, gamma=0.01, kernel=linear;, score=0.769 total time=  22.4s\n",
      "[CV 3/5] END ....C=1, gamma=0.01, kernel=linear;, score=0.737 total time=  21.7s\n",
      "[CV 4/5] END ....C=1, gamma=0.01, kernel=linear;, score=0.724 total time=  22.5s\n",
      "[CV 5/5] END ....C=1, gamma=0.01, kernel=linear;, score=0.742 total time=  23.3s\n",
      "[CV 1/5] END ......C=10, gamma=1, kernel=linear;, score=0.731 total time= 3.8min\n",
      "[CV 2/5] END ......C=10, gamma=1, kernel=linear;, score=0.769 total time= 3.8min\n",
      "[CV 3/5] END ......C=10, gamma=1, kernel=linear;, score=0.737 total time= 3.7min\n",
      "[CV 4/5] END ......C=10, gamma=1, kernel=linear;, score=0.730 total time= 3.7min\n",
      "[CV 5/5] END ......C=10, gamma=1, kernel=linear;, score=0.742 total time= 4.2min\n",
      "[CV 1/5] END ....C=10, gamma=0.1, kernel=linear;, score=0.731 total time= 3.7min\n",
      "[CV 2/5] END ....C=10, gamma=0.1, kernel=linear;, score=0.769 total time= 3.7min\n",
      "[CV 3/5] END ....C=10, gamma=0.1, kernel=linear;, score=0.737 total time= 3.5min\n",
      "[CV 4/5] END ....C=10, gamma=0.1, kernel=linear;, score=0.730 total time= 3.9min\n",
      "[CV 5/5] END ....C=10, gamma=0.1, kernel=linear;, score=0.742 total time= 4.4min\n",
      "[CV 1/5] END ...C=10, gamma=0.01, kernel=linear;, score=0.731 total time= 4.6min\n",
      "[CV 2/5] END ...C=10, gamma=0.01, kernel=linear;, score=0.769 total time= 4.3min\n",
      "[CV 3/5] END ...C=10, gamma=0.01, kernel=linear;, score=0.737 total time= 4.3min\n",
      "[CV 4/5] END ...C=10, gamma=0.01, kernel=linear;, score=0.730 total time= 4.5min\n",
      "[CV 5/5] END ...C=10, gamma=0.01, kernel=linear;, score=0.742 total time= 4.7min\n"
     ]
    },
    {
     "data": {
      "text/plain": [
       "GridSearchCV(estimator=SVC(),\n",
       "             param_grid={'C': [0.1, 1, 10], 'gamma': [1, 0.1, 0.01],\n",
       "                         'kernel': ['linear']},\n",
       "             verbose=3)"
      ]
     },
     "execution_count": 36,
     "metadata": {},
     "output_type": "execute_result"
    }
   ],
   "source": [
    "from sklearn.svm import SVC\n",
    "\n",
    "from sklearn.model_selection import GridSearchCV\n",
    "  \n",
    "# defining parameter range\n",
    "param_grid = {'C': [0.1, 1, 10], \n",
    "              'gamma': [1, 0.1, 0.01],\n",
    "              'kernel': ['linear']} \n",
    "  \n",
    "grid = GridSearchCV(SVC(), param_grid, refit = True, verbose = 3)\n",
    "  \n",
    "# fitting the model for grid search\n",
    "grid.fit(X_train, y_train)\n"
   ]
  },
  {
   "cell_type": "code",
   "execution_count": 37,
   "metadata": {},
   "outputs": [
    {
     "name": "stdout",
     "output_type": "stream",
     "text": [
      "{'C': 10, 'gamma': 1, 'kernel': 'linear'}\n",
      "SVC(C=10, gamma=1, kernel='linear')\n"
     ]
    }
   ],
   "source": [
    "# print best parameter after tuning\n",
    "print(grid.best_params_)\n",
    "  \n",
    "# print how our model looks after hyper-parameter tuning\n",
    "print(grid.best_estimator_)\n"
   ]
  },
  {
   "cell_type": "code",
   "execution_count": 38,
   "metadata": {},
   "outputs": [
    {
     "name": "stdout",
     "output_type": "stream",
     "text": [
      "              precision    recall  f1-score   support\n",
      "\n",
      "           0       0.66      1.00      0.80       310\n",
      "           1       1.00      0.36      0.53       247\n",
      "\n",
      "    accuracy                           0.71       557\n",
      "   macro avg       0.83      0.68      0.66       557\n",
      "weighted avg       0.81      0.71      0.68       557\n",
      "\n"
     ]
    }
   ],
   "source": [
    "grid_predictions = grid.predict(X_test)\n",
    "  \n",
    "# print classification report\n",
    "print(classification_report(y_test, grid_predictions))"
   ]
  },
  {
   "cell_type": "markdown",
   "metadata": {},
   "source": [
    "# observations "
   ]
  },
  {
   "cell_type": "markdown",
   "metadata": {},
   "source": [
    "\n",
    "-->\n",
    "\n",
    "    Before applying hyper-parameter\n",
    "\n",
    "        acc = 0.71\n",
    "        precision = 1.0\n",
    "        recall = 0.35\n",
    "->\n",
    "\n",
    "    AFTER applying hyper parametrs to the base model the output is \n",
    "\n",
    "        acc = 0.73\n",
    "        precision = 1.00\n",
    "        recall = 0.36"
   ]
  },
  {
   "cell_type": "code",
   "execution_count": null,
   "metadata": {},
   "outputs": [],
   "source": []
  },
  {
   "cell_type": "markdown",
   "metadata": {},
   "source": [
    "# svm - rbf - model 3"
   ]
  },
  {
   "cell_type": "code",
   "execution_count": 41,
   "metadata": {},
   "outputs": [
    {
     "name": "stdout",
     "output_type": "stream",
     "text": [
      "              precision    recall  f1-score   support\n",
      "\n",
      "           0       0.99      0.62      0.76       496\n",
      "           1       0.23      0.93      0.37        61\n",
      "\n",
      "    accuracy                           0.65       557\n",
      "   macro avg       0.61      0.78      0.56       557\n",
      "weighted avg       0.90      0.65      0.72       557\n",
      "\n"
     ]
    }
   ],
   "source": [
    "from sklearn import svm\n",
    "\n",
    "# Features selection \n",
    "X = data.iloc[:,:-1]\n",
    "y = data.iloc[:,-1]\n",
    "\n",
    "# Split and Fit model\n",
    "X_train,X_test,y_train,y_test = train_test_split(X,y,test_size=0.25,random_state=44)\n",
    "\n",
    "rbf_svc = svm.SVC(kernel='rbf', gamma=0.7, C=1).fit(X_train, y_train)\n",
    "\n",
    "kernels = ['SVC with RBF Kernel']\n",
    "\n",
    "y_pred= rbf_svc.predict(X_test) \n",
    "\n",
    "#accuracy_score(y_pred,y_test)\n",
    "print(classification_report(y_pred,y_test))"
   ]
  },
  {
   "cell_type": "markdown",
   "metadata": {},
   "source": [
    "# hyper - parameter tuning for svm rbf"
   ]
  },
  {
   "cell_type": "code",
   "execution_count": 42,
   "metadata": {},
   "outputs": [
    {
     "name": "stdout",
     "output_type": "stream",
     "text": [
      "Fitting 5 folds for each of 25 candidates, totalling 125 fits\n",
      "[CV 1/5] END ........C=0.1, gamma=1, kernel=rbf;, score=0.557 total time=   0.2s\n",
      "[CV 2/5] END ........C=0.1, gamma=1, kernel=rbf;, score=0.557 total time=   0.2s\n",
      "[CV 3/5] END ........C=0.1, gamma=1, kernel=rbf;, score=0.557 total time=   0.2s\n",
      "[CV 4/5] END ........C=0.1, gamma=1, kernel=rbf;, score=0.559 total time=   0.1s\n",
      "[CV 5/5] END ........C=0.1, gamma=1, kernel=rbf;, score=0.559 total time=   0.1s\n",
      "[CV 1/5] END ......C=0.1, gamma=0.1, kernel=rbf;, score=0.557 total time=   0.2s\n",
      "[CV 2/5] END ......C=0.1, gamma=0.1, kernel=rbf;, score=0.557 total time=   0.2s\n",
      "[CV 3/5] END ......C=0.1, gamma=0.1, kernel=rbf;, score=0.557 total time=   0.2s\n",
      "[CV 4/5] END ......C=0.1, gamma=0.1, kernel=rbf;, score=0.559 total time=   0.1s\n",
      "[CV 5/5] END ......C=0.1, gamma=0.1, kernel=rbf;, score=0.559 total time=   0.2s\n",
      "[CV 1/5] END .....C=0.1, gamma=0.01, kernel=rbf;, score=0.934 total time=   0.2s\n",
      "[CV 2/5] END .....C=0.1, gamma=0.01, kernel=rbf;, score=0.925 total time=   0.2s\n",
      "[CV 3/5] END .....C=0.1, gamma=0.01, kernel=rbf;, score=0.958 total time=   0.1s\n",
      "[CV 4/5] END .....C=0.1, gamma=0.01, kernel=rbf;, score=0.943 total time=   0.2s\n",
      "[CV 5/5] END .....C=0.1, gamma=0.01, kernel=rbf;, score=0.931 total time=   0.1s\n",
      "[CV 1/5] END ....C=0.1, gamma=0.001, kernel=rbf;, score=0.955 total time=   0.1s\n",
      "[CV 2/5] END ....C=0.1, gamma=0.001, kernel=rbf;, score=0.937 total time=   0.1s\n",
      "[CV 3/5] END ....C=0.1, gamma=0.001, kernel=rbf;, score=0.949 total time=   0.1s\n",
      "[CV 4/5] END ....C=0.1, gamma=0.001, kernel=rbf;, score=0.949 total time=   0.1s\n",
      "[CV 5/5] END ....C=0.1, gamma=0.001, kernel=rbf;, score=0.943 total time=   0.1s\n",
      "[CV 1/5] END ...C=0.1, gamma=0.0001, kernel=rbf;, score=0.925 total time=   0.1s\n",
      "[CV 2/5] END ...C=0.1, gamma=0.0001, kernel=rbf;, score=0.931 total time=   0.0s\n",
      "[CV 3/5] END ...C=0.1, gamma=0.0001, kernel=rbf;, score=0.943 total time=   0.0s\n",
      "[CV 4/5] END ...C=0.1, gamma=0.0001, kernel=rbf;, score=0.943 total time=   0.0s\n",
      "[CV 5/5] END ...C=0.1, gamma=0.0001, kernel=rbf;, score=0.901 total time=   0.1s\n",
      "[CV 1/5] END ..........C=1, gamma=1, kernel=rbf;, score=0.617 total time=   0.1s\n",
      "[CV 2/5] END ..........C=1, gamma=1, kernel=rbf;, score=0.626 total time=   0.2s\n",
      "[CV 3/5] END ..........C=1, gamma=1, kernel=rbf;, score=0.623 total time=   0.1s\n",
      "[CV 4/5] END ..........C=1, gamma=1, kernel=rbf;, score=0.622 total time=   0.2s\n",
      "[CV 5/5] END ..........C=1, gamma=1, kernel=rbf;, score=0.616 total time=   0.2s\n",
      "[CV 1/5] END ........C=1, gamma=0.1, kernel=rbf;, score=0.868 total time=   0.2s\n",
      "[CV 2/5] END ........C=1, gamma=0.1, kernel=rbf;, score=0.895 total time=   0.2s\n",
      "[CV 3/5] END ........C=1, gamma=0.1, kernel=rbf;, score=0.901 total time=   0.2s\n",
      "[CV 4/5] END ........C=1, gamma=0.1, kernel=rbf;, score=0.904 total time=   0.2s\n",
      "[CV 5/5] END ........C=1, gamma=0.1, kernel=rbf;, score=0.877 total time=   0.2s\n",
      "[CV 1/5] END .......C=1, gamma=0.01, kernel=rbf;, score=0.934 total time=   0.2s\n",
      "[CV 2/5] END .......C=1, gamma=0.01, kernel=rbf;, score=0.931 total time=   0.2s\n",
      "[CV 3/5] END .......C=1, gamma=0.01, kernel=rbf;, score=0.961 total time=   0.2s\n",
      "[CV 4/5] END .......C=1, gamma=0.01, kernel=rbf;, score=0.946 total time=   0.2s\n",
      "[CV 5/5] END .......C=1, gamma=0.01, kernel=rbf;, score=0.955 total time=   0.2s\n",
      "[CV 1/5] END ......C=1, gamma=0.001, kernel=rbf;, score=0.955 total time=   0.0s\n",
      "[CV 2/5] END ......C=1, gamma=0.001, kernel=rbf;, score=0.928 total time=   0.0s\n",
      "[CV 3/5] END ......C=1, gamma=0.001, kernel=rbf;, score=0.946 total time=   0.0s\n",
      "[CV 4/5] END ......C=1, gamma=0.001, kernel=rbf;, score=0.952 total time=   0.0s\n",
      "[CV 5/5] END ......C=1, gamma=0.001, kernel=rbf;, score=0.943 total time=   0.0s\n",
      "[CV 1/5] END .....C=1, gamma=0.0001, kernel=rbf;, score=0.946 total time=   0.0s\n",
      "[CV 2/5] END .....C=1, gamma=0.0001, kernel=rbf;, score=0.931 total time=   0.0s\n",
      "[CV 3/5] END .....C=1, gamma=0.0001, kernel=rbf;, score=0.952 total time=   0.0s\n",
      "[CV 4/5] END .....C=1, gamma=0.0001, kernel=rbf;, score=0.946 total time=   0.0s\n",
      "[CV 5/5] END .....C=1, gamma=0.0001, kernel=rbf;, score=0.934 total time=   0.0s\n",
      "[CV 1/5] END .........C=10, gamma=1, kernel=rbf;, score=0.632 total time=   0.1s\n",
      "[CV 2/5] END .........C=10, gamma=1, kernel=rbf;, score=0.647 total time=   0.3s\n",
      "[CV 3/5] END .........C=10, gamma=1, kernel=rbf;, score=0.644 total time=   0.4s\n",
      "[CV 4/5] END .........C=10, gamma=1, kernel=rbf;, score=0.637 total time=   0.4s\n",
      "[CV 5/5] END .........C=10, gamma=1, kernel=rbf;, score=0.622 total time=   0.3s\n",
      "[CV 1/5] END .......C=10, gamma=0.1, kernel=rbf;, score=0.868 total time=   0.4s\n",
      "[CV 2/5] END .......C=10, gamma=0.1, kernel=rbf;, score=0.898 total time=   0.3s\n",
      "[CV 3/5] END .......C=10, gamma=0.1, kernel=rbf;, score=0.904 total time=   0.3s\n",
      "[CV 4/5] END .......C=10, gamma=0.1, kernel=rbf;, score=0.901 total time=   0.2s\n",
      "[CV 5/5] END .......C=10, gamma=0.1, kernel=rbf;, score=0.877 total time=   0.2s\n",
      "[CV 1/5] END ......C=10, gamma=0.01, kernel=rbf;, score=0.922 total time=   0.2s\n",
      "[CV 2/5] END ......C=10, gamma=0.01, kernel=rbf;, score=0.931 total time=   0.2s\n",
      "[CV 3/5] END ......C=10, gamma=0.01, kernel=rbf;, score=0.946 total time=   0.2s\n",
      "[CV 4/5] END ......C=10, gamma=0.01, kernel=rbf;, score=0.943 total time=   0.2s\n",
      "[CV 5/5] END ......C=10, gamma=0.01, kernel=rbf;, score=0.937 total time=   0.2s\n",
      "[CV 1/5] END .....C=10, gamma=0.001, kernel=rbf;, score=0.940 total time=   0.1s\n",
      "[CV 2/5] END .....C=10, gamma=0.001, kernel=rbf;, score=0.931 total time=   0.0s\n",
      "[CV 3/5] END .....C=10, gamma=0.001, kernel=rbf;, score=0.943 total time=   0.0s\n",
      "[CV 4/5] END .....C=10, gamma=0.001, kernel=rbf;, score=0.949 total time=   0.0s\n",
      "[CV 5/5] END .....C=10, gamma=0.001, kernel=rbf;, score=0.940 total time=   0.0s\n",
      "[CV 1/5] END ....C=10, gamma=0.0001, kernel=rbf;, score=0.952 total time=   0.0s\n",
      "[CV 2/5] END ....C=10, gamma=0.0001, kernel=rbf;, score=0.937 total time=   0.0s\n",
      "[CV 3/5] END ....C=10, gamma=0.0001, kernel=rbf;, score=0.940 total time=   0.0s\n",
      "[CV 4/5] END ....C=10, gamma=0.0001, kernel=rbf;, score=0.946 total time=   0.0s\n",
      "[CV 5/5] END ....C=10, gamma=0.0001, kernel=rbf;, score=0.943 total time=   0.0s\n",
      "[CV 1/5] END ........C=100, gamma=1, kernel=rbf;, score=0.632 total time=   0.2s\n",
      "[CV 2/5] END ........C=100, gamma=1, kernel=rbf;, score=0.647 total time=   0.2s\n",
      "[CV 3/5] END ........C=100, gamma=1, kernel=rbf;, score=0.644 total time=   0.2s\n",
      "[CV 4/5] END ........C=100, gamma=1, kernel=rbf;, score=0.637 total time=   0.2s\n",
      "[CV 5/5] END ........C=100, gamma=1, kernel=rbf;, score=0.622 total time=   0.1s\n",
      "[CV 1/5] END ......C=100, gamma=0.1, kernel=rbf;, score=0.874 total time=   0.2s\n",
      "[CV 2/5] END ......C=100, gamma=0.1, kernel=rbf;, score=0.901 total time=   0.2s\n",
      "[CV 3/5] END ......C=100, gamma=0.1, kernel=rbf;, score=0.904 total time=   0.2s\n",
      "[CV 4/5] END ......C=100, gamma=0.1, kernel=rbf;, score=0.907 total time=   0.2s\n",
      "[CV 5/5] END ......C=100, gamma=0.1, kernel=rbf;, score=0.874 total time=   0.2s\n",
      "[CV 1/5] END .....C=100, gamma=0.01, kernel=rbf;, score=0.907 total time=   0.2s\n",
      "[CV 2/5] END .....C=100, gamma=0.01, kernel=rbf;, score=0.931 total time=   0.2s\n",
      "[CV 3/5] END .....C=100, gamma=0.01, kernel=rbf;, score=0.934 total time=   0.2s\n",
      "[CV 4/5] END .....C=100, gamma=0.01, kernel=rbf;, score=0.934 total time=   0.2s\n",
      "[CV 5/5] END .....C=100, gamma=0.01, kernel=rbf;, score=0.943 total time=   0.2s\n",
      "[CV 1/5] END ....C=100, gamma=0.001, kernel=rbf;, score=0.931 total time=   0.0s\n",
      "[CV 2/5] END ....C=100, gamma=0.001, kernel=rbf;, score=0.925 total time=   0.0s\n",
      "[CV 3/5] END ....C=100, gamma=0.001, kernel=rbf;, score=0.946 total time=   0.1s\n",
      "[CV 4/5] END ....C=100, gamma=0.001, kernel=rbf;, score=0.946 total time=   0.0s\n",
      "[CV 5/5] END ....C=100, gamma=0.001, kernel=rbf;, score=0.940 total time=   0.0s\n",
      "[CV 1/5] END ...C=100, gamma=0.0001, kernel=rbf;, score=0.958 total time=   0.0s\n",
      "[CV 2/5] END ...C=100, gamma=0.0001, kernel=rbf;, score=0.925 total time=   0.0s\n",
      "[CV 3/5] END ...C=100, gamma=0.0001, kernel=rbf;, score=0.943 total time=   0.0s\n",
      "[CV 4/5] END ...C=100, gamma=0.0001, kernel=rbf;, score=0.949 total time=   0.0s\n",
      "[CV 5/5] END ...C=100, gamma=0.0001, kernel=rbf;, score=0.934 total time=   0.0s\n",
      "[CV 1/5] END .......C=1000, gamma=1, kernel=rbf;, score=0.632 total time=   0.2s\n",
      "[CV 2/5] END .......C=1000, gamma=1, kernel=rbf;, score=0.647 total time=   0.1s\n",
      "[CV 3/5] END .......C=1000, gamma=1, kernel=rbf;, score=0.644 total time=   0.2s\n",
      "[CV 4/5] END .......C=1000, gamma=1, kernel=rbf;, score=0.637 total time=   0.1s\n",
      "[CV 5/5] END .......C=1000, gamma=1, kernel=rbf;, score=0.622 total time=   0.2s\n",
      "[CV 1/5] END .....C=1000, gamma=0.1, kernel=rbf;, score=0.874 total time=   0.2s\n",
      "[CV 2/5] END .....C=1000, gamma=0.1, kernel=rbf;, score=0.901 total time=   0.2s\n",
      "[CV 3/5] END .....C=1000, gamma=0.1, kernel=rbf;, score=0.904 total time=   0.2s\n",
      "[CV 4/5] END .....C=1000, gamma=0.1, kernel=rbf;, score=0.907 total time=   0.2s\n",
      "[CV 5/5] END .....C=1000, gamma=0.1, kernel=rbf;, score=0.874 total time=   0.2s\n",
      "[CV 1/5] END ....C=1000, gamma=0.01, kernel=rbf;, score=0.913 total time=   0.3s\n",
      "[CV 2/5] END ....C=1000, gamma=0.01, kernel=rbf;, score=0.925 total time=   0.3s\n",
      "[CV 3/5] END ....C=1000, gamma=0.01, kernel=rbf;, score=0.925 total time=   0.3s\n",
      "[CV 4/5] END ....C=1000, gamma=0.01, kernel=rbf;, score=0.922 total time=   0.2s\n",
      "[CV 5/5] END ....C=1000, gamma=0.01, kernel=rbf;, score=0.943 total time=   0.4s\n",
      "[CV 1/5] END ...C=1000, gamma=0.001, kernel=rbf;, score=0.928 total time=   0.1s\n",
      "[CV 2/5] END ...C=1000, gamma=0.001, kernel=rbf;, score=0.928 total time=   0.1s\n",
      "[CV 3/5] END ...C=1000, gamma=0.001, kernel=rbf;, score=0.958 total time=   0.1s\n",
      "[CV 4/5] END ...C=1000, gamma=0.001, kernel=rbf;, score=0.949 total time=   0.1s\n",
      "[CV 5/5] END ...C=1000, gamma=0.001, kernel=rbf;, score=0.943 total time=   0.1s\n",
      "[CV 1/5] END ..C=1000, gamma=0.0001, kernel=rbf;, score=0.952 total time=   0.0s\n",
      "[CV 2/5] END ..C=1000, gamma=0.0001, kernel=rbf;, score=0.925 total time=   0.0s\n",
      "[CV 3/5] END ..C=1000, gamma=0.0001, kernel=rbf;, score=0.943 total time=   0.1s\n",
      "[CV 4/5] END ..C=1000, gamma=0.0001, kernel=rbf;, score=0.952 total time=   0.1s\n",
      "[CV 5/5] END ..C=1000, gamma=0.0001, kernel=rbf;, score=0.940 total time=   0.0s\n"
     ]
    },
    {
     "data": {
      "text/plain": [
       "GridSearchCV(estimator=SVC(),\n",
       "             param_grid={'C': [0.1, 1, 10, 100, 1000],\n",
       "                         'gamma': [1, 0.1, 0.01, 0.001, 0.0001],\n",
       "                         'kernel': ['rbf']},\n",
       "             verbose=3)"
      ]
     },
     "execution_count": 42,
     "metadata": {},
     "output_type": "execute_result"
    }
   ],
   "source": [
    "from sklearn.svm import SVC\n",
    "\n",
    "from sklearn.model_selection import GridSearchCV\n",
    "  \n",
    "# defining parameter range\n",
    "param_grid = {'C': [0.1, 1, 10, 100, 1000], \n",
    "              'gamma': [1, 0.1, 0.01, 0.001, 0.0001],\n",
    "              'kernel': ['rbf']} \n",
    "  \n",
    "grid = GridSearchCV(SVC(), param_grid, refit = True, verbose = 3)\n",
    "  \n",
    "# fitting the model for grid search\n",
    "grid.fit(X_train, y_train)"
   ]
  },
  {
   "cell_type": "code",
   "execution_count": 43,
   "metadata": {},
   "outputs": [
    {
     "name": "stdout",
     "output_type": "stream",
     "text": [
      "{'C': 0.1, 'gamma': 0.001, 'kernel': 'rbf'}\n",
      "SVC(C=0.1, gamma=0.001)\n"
     ]
    }
   ],
   "source": [
    "# print best parameter after tuning\n",
    "print(grid.best_params_)\n",
    "  \n",
    "# print how our model looks after hyper-parameter tuning\n",
    "print(grid.best_estimator_)"
   ]
  },
  {
   "cell_type": "code",
   "execution_count": 44,
   "metadata": {},
   "outputs": [
    {
     "name": "stdout",
     "output_type": "stream",
     "text": [
      "              precision    recall  f1-score   support\n",
      "\n",
      "           0       0.96      0.97      0.97       310\n",
      "           1       0.96      0.96      0.96       247\n",
      "\n",
      "    accuracy                           0.96       557\n",
      "   macro avg       0.96      0.96      0.96       557\n",
      "weighted avg       0.96      0.96      0.96       557\n",
      "\n"
     ]
    }
   ],
   "source": [
    "grid_predictions = grid.predict(X_test)\n",
    "  \n",
    "# print classification report\n",
    "print(classification_report(y_test, grid_predictions))"
   ]
  },
  {
   "cell_type": "markdown",
   "metadata": {},
   "source": [
    "# model - 4 knn"
   ]
  },
  {
   "cell_type": "code",
   "execution_count": 45,
   "metadata": {},
   "outputs": [
    {
     "name": "stdout",
     "output_type": "stream",
     "text": [
      "Model: KNeighborsClassifier()\n",
      "\n",
      "for test:\n",
      "KNeighborsClassifier Model Accuracy :  0.9587073608617595\n",
      "\n",
      "recall_score_for_knn :  0.9473684210526315\n",
      "\n",
      "precision_score_for_knn :  0.9590163934426229\n"
     ]
    }
   ],
   "source": [
    "#KNN also a used for Regression Technique. i hope it will help to find Prediction with best accuracy\n",
    "\n",
    "#Import Libaries\n",
    "\n",
    "from sklearn.neighbors import KNeighborsClassifier\n",
    "from sklearn import metrics\n",
    "knn = KNeighborsClassifier()\n",
    "\n",
    "# Features selection \n",
    "X = data.iloc[:,:-1]\n",
    "y = data.iloc[:,-1]\n",
    "\n",
    "# Split and Fit model\n",
    "X_train,X_test,y_train,y_test = train_test_split(X,y,test_size=0.25,random_state=44)\n",
    "\n",
    "knn.fit(X_train,y_train)\n",
    "\n",
    "y_pred_for_knn = knn.predict(X_test)\n",
    "\n",
    "\n",
    "print('Model:', knn)\n",
    "\n",
    "print('')\n",
    "print('for test:')\n",
    "      \n",
    "print('KNeighborsClassifier Model Accuracy : ', accuracy_score(y_pred_for_knn,y_test))\n",
    "\n",
    "print('')\n",
    "print('recall_score_for_knn : ',recall_score(y_test, y_pred_for_knn))\n",
    "\n",
    "print('')\n",
    "\n",
    "from sklearn.metrics import precision_score\n",
    "print('precision_score_for_knn : ',precision_score(y_test, y_pred_for_knn))"
   ]
  },
  {
   "cell_type": "markdown",
   "metadata": {},
   "source": [
    "# Hyper-Parameter tuning for knn\n",
    "\n",
    "    n_neighbors: Decide the best k based on the values we have computed earlier.\n",
    "\n",
    "    weights: Check whether adding weights to the data points is beneficial to the model or not. 'uniform' assigns no weight, while 'distance' weighs points by the inverse of their distances meaning nearer points will have more weight than the farther points.\n",
    "\n",
    "    metric: The distance metric to be used will calculating the similarity."
   ]
  },
  {
   "cell_type": "code",
   "execution_count": 46,
   "metadata": {},
   "outputs": [
    {
     "data": {
      "text/plain": [
       "GridSearchCV(cv=3, estimator=KNeighborsClassifier(),\n",
       "             param_grid={'metric': ['minkowski', 'euclidean', 'manhattan'],\n",
       "                         'n_neighbors': [5, 7, 9, 11],\n",
       "                         'weights': ['uniform', 'distance']})"
      ]
     },
     "execution_count": 46,
     "metadata": {},
     "output_type": "execute_result"
    }
   ],
   "source": [
    "from sklearn.model_selection import GridSearchCV\n",
    "\n",
    "grid_params = { 'n_neighbors' : [5,7,9,11],\n",
    "               'weights' : ['uniform','distance'],\n",
    "               'metric' : ['minkowski','euclidean','manhattan']\n",
    "              }\n",
    "\n",
    "grid_search_for_knn = GridSearchCV(KNeighborsClassifier(), grid_params , cv=3)\n",
    "\n",
    "# fit the model on our train set\n",
    "#grid_result\n",
    "grid_search_for_knn.fit(X_train,y_train)"
   ]
  },
  {
   "cell_type": "code",
   "execution_count": 47,
   "metadata": {},
   "outputs": [
    {
     "name": "stdout",
     "output_type": "stream",
     "text": [
      "best score:  0.947242206235012\n",
      "\n",
      "best parameters for knn :  {'metric': 'manhattan', 'n_neighbors': 11, 'weights': 'distance'}\n"
     ]
    }
   ],
   "source": [
    "# find the best score\n",
    "print('best score: ',grid_search_for_knn.best_score_)\n",
    "\n",
    "print('')\n",
    "\n",
    "# get the hyperparameters with the best score\n",
    "print('best parameters for knn : ',grid_search_for_knn.best_params_)"
   ]
  },
  {
   "cell_type": "markdown",
   "metadata": {},
   "source": [
    "# model evaluation"
   ]
  },
  {
   "cell_type": "code",
   "execution_count": 48,
   "metadata": {},
   "outputs": [],
   "source": [
    "# use the best hyperparameters\n",
    "\n",
    "knn2 = KNeighborsClassifier(n_neighbors = 5, weights = 'distance' ,metric = 'manhattan')\n",
    "\n",
    "#knn2 = grid_search_for_knn.best_params_\n",
    "\n",
    "knn2.fit(X_train,y_train)\n",
    "\n",
    "# get a prediction\n",
    "y_hat_knn2 = knn2.predict(X_train)\n",
    "\n",
    "y_pred_for_knn2 = knn2.predict(X_test)"
   ]
  },
  {
   "cell_type": "code",
   "execution_count": 49,
   "metadata": {},
   "outputs": [
    {
     "name": "stdout",
     "output_type": "stream",
     "text": [
      "Test set accuracy :  0.9533213644524237\n",
      "\n",
      "[[298  12]\n",
      " [ 14 233]]\n",
      "\n",
      "recall_score_for_knn2 :  0.9433198380566802\n",
      "\n",
      "precision_score_for_knn2 :  0.9510204081632653\n"
     ]
    }
   ],
   "source": [
    "#print('Training set accuracy: ', metrics.accuracy_score(y_train_smote, y_hat_knn2))\n",
    "print('Test set accuracy : ', accuracy_score(y_pred_for_knn2, y_test))\n",
    "\n",
    "print('')\n",
    "\n",
    "from sklearn.metrics import confusion_matrix\n",
    "print(confusion_matrix(y_test, y_pred_for_knn2))\n",
    "\n",
    "print('')\n",
    "from sklearn.metrics import recall_score\n",
    "print('recall_score_for_knn2 : ',recall_score(y_test, y_pred_for_knn2))\n",
    "\n",
    "print('')\n",
    "\n",
    "from sklearn.metrics import precision_score\n",
    "print('precision_score_for_knn2 : ',precision_score(y_test, y_pred_for_knn2))\n",
    "\n"
   ]
  },
  {
   "cell_type": "markdown",
   "metadata": {},
   "source": [
    "# observations"
   ]
  },
  {
   "cell_type": "markdown",
   "metadata": {},
   "source": [
    "# --\n",
    "\n",
    "    Before applying hyper - parameters\n",
    "\n",
    "        KNeighborsClassifier Model Accuracy :  0.95\n",
    "\n",
    "        recall_score_for_knn :  0.94\n",
    "\n",
    "        precision_score_for_knn :  0.95\n",
    "\n",
    "    After applying hyper- parametr\n",
    "\n",
    "        Test set accuracy :  0.95\n",
    "\n",
    "        recall_score_for_knn2 :  0.94\n",
    "\n",
    "        precision_score_for_knn2 :  0.95"
   ]
  },
  {
   "cell_type": "code",
   "execution_count": null,
   "metadata": {},
   "outputs": [],
   "source": []
  },
  {
   "cell_type": "markdown",
   "metadata": {},
   "source": [
    "# model - 5 - dt"
   ]
  },
  {
   "cell_type": "code",
   "execution_count": 50,
   "metadata": {},
   "outputs": [
    {
     "name": "stdout",
     "output_type": "stream",
     "text": [
      "DecisionTreeClassifier()\n",
      "\n",
      "for test:\n",
      "DecisionTreeClassifier Model Accuracy :  0.9371633752244165\n",
      "\n",
      "recall_score_for_DT :  0.9352226720647774\n",
      "\n",
      "precision_score_for_DT :  0.924\n"
     ]
    }
   ],
   "source": [
    "# decision tree\n",
    "\n",
    "from sklearn.tree import DecisionTreeClassifier\n",
    "decision_tree = DecisionTreeClassifier()\n",
    "\n",
    "\n",
    "decision_tree.fit(X_train,y_train)\n",
    "\n",
    "y_pred_for_DT = decision_tree.predict(X_test)\n",
    "\n",
    "from sklearn.metrics import accuracy_score\n",
    "\n",
    "print(decision_tree)\n",
    "\n",
    "print('')\n",
    "\n",
    "print('for test:', )\n",
    "\n",
    "print('DecisionTreeClassifier Model Accuracy : ', accuracy_score(y_pred_for_DT,y_test))\n",
    "\n",
    "print('')\n",
    "\n",
    "from sklearn.metrics import recall_score\n",
    "print('recall_score_for_DT : ',recall_score(y_test, y_pred_for_DT))\n",
    "\n",
    "print('')\n",
    "\n",
    "from sklearn.metrics import precision_score\n",
    "print('precision_score_for_DT : ',precision_score(y_test, y_pred_for_DT))"
   ]
  },
  {
   "cell_type": "markdown",
   "metadata": {},
   "source": [
    "# hyper parameter tuning for DT\n",
    "\n",
    "    max_depth\n",
    "    min_samples_leaf\n",
    "    criterion : [\"gini\", \"entropy\"]\n",
    "    min_impurity_split"
   ]
  },
  {
   "cell_type": "code",
   "execution_count": 51,
   "metadata": {},
   "outputs": [
    {
     "name": "stdout",
     "output_type": "stream",
     "text": [
      "DecisionTreeClassifier()\n",
      "\n"
     ]
    },
    {
     "data": {
      "text/plain": [
       "DecisionTreeClassifier(max_depth=20, min_samples_leaf=5)"
      ]
     },
     "execution_count": 51,
     "metadata": {},
     "output_type": "execute_result"
    }
   ],
   "source": [
    "###\n",
    "from scipy.stats import randint\n",
    "from sklearn.tree import DecisionTreeClassifier\n",
    "from sklearn.model_selection import GridSearchCV\n",
    "  \n",
    "# Creating the hyperparameter grid \n",
    "param_dist = {\"max_depth\": [2,3,5,10,20],\n",
    "              \"min_samples_leaf\": [1, 2 ,5 ,9],\n",
    "              \"criterion\": [\"gini\", \"entropy\"]\n",
    "             }\n",
    "  \n",
    "# Instantiating Decision Tree classifier\n",
    "decision_tree = DecisionTreeClassifier()\n",
    "print(decision_tree)\n",
    "\n",
    "print('')\n",
    "\n",
    "  \n",
    "grid_Search = GridSearchCV(decision_tree, param_dist, cv = 3)\n",
    "\n",
    "grid_model = grid_Search.fit(X_train,y_train)\n",
    "\n",
    "grid_model.best_estimator_"
   ]
  },
  {
   "cell_type": "code",
   "execution_count": 52,
   "metadata": {},
   "outputs": [
    {
     "name": "stdout",
     "output_type": "stream",
     "text": [
      "best score:  0.9418465227817746\n",
      "\n",
      "best parameters for DT :  {'criterion': 'gini', 'max_depth': 20, 'min_samples_leaf': 5}\n"
     ]
    }
   ],
   "source": [
    "# find the best score\n",
    "print('best score: ',grid_model.best_score_)\n",
    "\n",
    "print('')\n",
    "\n",
    "# get the hyperparameters with the best params/estimator same\n",
    "print('best parameters for DT : ',grid_model.best_params_)"
   ]
  },
  {
   "cell_type": "code",
   "execution_count": 53,
   "metadata": {},
   "outputs": [
    {
     "name": "stdout",
     "output_type": "stream",
     "text": [
      "DecisionTreeClassifier Model Accuracy :  0.9371633752244165\n",
      "\n",
      "recall_score_for_DT2 :  0.9392712550607287\n",
      "\n",
      "precision_score_for_DT2 :  0.9206349206349206\n"
     ]
    }
   ],
   "source": [
    "\n",
    "# With the Best HyperTunning Parameter\n",
    "dt2 = grid_model.best_estimator_\n",
    "\n",
    "#dt = DecisionTreeClassifier(max_depth=10, min_samples_leaf=5, random_state=42)\n",
    "dt2.fit(X_train,y_train)\n",
    "\n",
    "y_pred_FOR_DT2 = dt2.predict(X_test)\n",
    "\n",
    "print('DecisionTreeClassifier Model Accuracy : ', accuracy_score(y_pred_FOR_DT2,y_test))\n",
    "\n",
    "print('')\n",
    "\n",
    "from sklearn.metrics import recall_score\n",
    "print('recall_score_for_DT2 : ',recall_score(y_test, y_pred_FOR_DT2))\n",
    "\n",
    "print('')\n",
    "\n",
    "from sklearn.metrics import precision_score\n",
    "print('precision_score_for_DT2 : ',precision_score(y_test, y_pred_FOR_DT2))\n",
    "\n"
   ]
  },
  {
   "cell_type": "markdown",
   "metadata": {},
   "source": [
    "# observations"
   ]
  },
  {
   "cell_type": "markdown",
   "metadata": {},
   "source": [
    "# --\n",
    "\n",
    "    Before applying hyper - parameters\n",
    "    \n",
    "        DecisionTreeClassifier Model Accuracy :  0.94\n",
    "\n",
    "        recall_score_for_DT :  0.94\n",
    "\n",
    "        precision_score_for_DT :  0.92\n",
    "\n",
    "    After applying hyper- parametr\n",
    "    \n",
    "        DecisionTreeClassifier Model Accuracy :  0.95\n",
    "\n",
    "        recall_score_for_DT2 :  0.93\n",
    "\n",
    "        precision_score_for_DT2 :  0.94\n",
    "    \n",
    "    "
   ]
  },
  {
   "cell_type": "code",
   "execution_count": null,
   "metadata": {},
   "outputs": [],
   "source": []
  },
  {
   "cell_type": "markdown",
   "metadata": {},
   "source": [
    "# Step - 4: Compare all the models and write your observations i.e. why is one model better than the other?\n",
    "Add this observation at the end of your jupyter notebook\n",
    "Hint: Try to visualise the data 😮"
   ]
  },
  {
   "cell_type": "code",
   "execution_count": null,
   "metadata": {},
   "outputs": [],
   "source": []
  },
  {
   "cell_type": "code",
   "execution_count": null,
   "metadata": {},
   "outputs": [],
   "source": []
  },
  {
   "cell_type": "code",
   "execution_count": 54,
   "metadata": {},
   "outputs": [
    {
     "data": {
      "image/png": "[encoded data removed]",
      "text/plain": [
       "<Figure size 936x576 with 1 Axes>"
      ]
     },
     "metadata": {
      "needs_background": "light"
     },
     "output_type": "display_data"
    }
   ],
   "source": [
    "import matplotlib.pyplot as plt\n",
    "import numpy as np\n",
    "\n",
    "\n",
    "models = [\"Log_Reg\", \"knn\", \"Decision Tree\", \"svm with linear\", \"svm with rbf\"]\n",
    "\n",
    "acc_before = np.array([0.73, 0.95, 0.94 , 0.71 , 0.65])\n",
    "acc_after = np.array([0.74, 0.94, 0.95 , 0.73 , 0.96])\n",
    "\n",
    "\n",
    "x = np.arange(len(models))  # the label locations\n",
    "\n",
    "width = 0.35  # the width of the bars\n",
    "\n",
    "#fig, ax = plt.subplots()\n",
    "\n",
    "plt.figure(figsize=[13,8])\n",
    "\n",
    "\n",
    "rects1 = plt.bar(x - width/2, acc_before, width, label='acc_before')\n",
    "rects2 = plt.bar(x + width/2, acc_after, width, label='acc_after')\n",
    "\n",
    "# Add some text for labels, title and custom x-axis tick labels, etc.\n",
    "\n",
    "plt.title('ACCURACY of Different models BEFORE & AFTER performing Hyper-Parameters')\n",
    "\n",
    "plt.ylabel('accuracy')\n",
    "plt.xlabel('Models')\n",
    "#plt.xticks(x)\n",
    "plt.xlabel(models)\n",
    "\n",
    "plt.legend()\n",
    "\n",
    "plt.show()"
   ]
  },
  {
   "cell_type": "markdown",
   "metadata": {},
   "source": [
    "# Decision Tree IS BEST"
   ]
  },
  {
   "cell_type": "markdown",
   "metadata": {},
   "source": [
    "# Step - 5: Upload your Jupyter Notebook on Github or Google Drive and submit the link in the form mentioned below. \n"
   ]
  },
  {
   "cell_type": "code",
   "execution_count": null,
   "metadata": {},
   "outputs": [],
   "source": []
  },
  {
   "cell_type": "code",
   "execution_count": null,
   "metadata": {},
   "outputs": [],
   "source": []
  }
 ],
 "metadata": {
  "kernelspec": {
   "display_name": "Python 3",
   "language": "python",
   "name": "python3"
  },
  "language_info": {
   "codemirror_mode": {
    "name": "ipython",
    "version": 3
   },
   "file_extension": ".py",
   "mimetype": "text/x-python",
   "name": "python",
   "nbconvert_exporter": "python",
   "pygments_lexer": "ipython3",
   "version": "3.8.5"
  }
 },
 "nbformat": 4,
 "nbformat_minor": 4
}
